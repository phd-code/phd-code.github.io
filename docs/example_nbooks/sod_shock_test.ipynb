{
 "cells": [
  {
   "cell_type": "markdown",
   "metadata": {},
   "source": [
    "# Sod Shock Tube\n",
    "### Context\n",
    "The Sod shock tube problem is a classic test of the code's ability to handle discontinuities (i.e. shocks) and trace their propagation. This is a simple example of a [Riemann problem](https://en.wikipedia.org/wiki/Riemann_problem), which is essentially just an initial-value problem for which we have a conservation equation subject to a piecewise discontinuous constant initial condition. In the case of the Sod shock tube, this amounts to having a fluid separated into two constant states, separated by some boundary/diaphragm across which the density and pressure are discontinuous. Formally, this can be written:\n",
    "\n",
    "$$ \\rho(x)=   \\left\\{\n",
    "\\begin{array}{ll}\n",
    "      \\rho_L & x\\leq x_\\mathrm{crit} \\\\\n",
    "      \\rho_R & x>x_\\mathrm{crit} \\\\\n",
    "\\end{array} \n",
    "\\right.  \n",
    "$$\n",
    "\n",
    "and\n",
    "\n",
    "$$ P(x)=   \\left\\{\n",
    "\\begin{array}{ll}\n",
    "      P_L & x\\leq x_\\mathrm{crit} \\\\\n",
    "      P_R & x>x_\\mathrm{crit} \\\\\n",
    "\\end{array} \n",
    "\\right.  \n",
    "$$\n",
    "\n",
    "where the subscripts correspond to the 'left' and 'right' sides of the boundary at $x=x_\\mathrm{crit}$. Generally, we will define $P_L$ and $P_R$ such that $P_R < P_L$. The following figure of the initial setup ($t=0$) for the 1D shock tube.\n",
    "\n",
    "![Sod Setup](sod_setup.png)\n",
    "\n",
    "At $t=0$, the diaphragm is removed, and, because the fluid is initially at rest, this will initiate a flow from the higher pressure (left) to lower pressure (right) region. Conceptually, in an attempt to equalize te pressure, the fluid on the left will expand and flow into the right section, compressing the fluid there. This rarefaction occurs in a region known as the 'expansion fan' (2 in the diagram) that proceeds to the left, and, similarly, the compression proceeds to the right as a 'shock front' (the line separating 4 and 5 in the diagram). There is a 'boundary' between these two regions (the expanding and compressing fluids) across which the state variables of the fluid are discontinuous – this is the source of the difficulty for the code and is why this provides a good test. The following figure is a schematic visualization of what the aforementioned process looks like at $t>0$.\n",
    "\n",
    "![Sod Final](solution_sod.png)\n",
    "\n",
    "Functionally, we need to solve the Euler equations to trace the evolution of the system over time and this corresponds to the aforementioned Riemann problem that we are solving. First, the Euler equations can be written in matrix form as follows (assuming no external body forces):\n",
    "\n",
    "$$\n",
    "\\frac{\\partial}{\\partial t}\\begin{pmatrix} \\rho \\\\ \\rho v \\\\ E \\end{pmatrix} + \\frac{\\partial}{\\partial x}\\begin{pmatrix} \\rho v\\\\ \\rho v^2 + P \\\\ (E+P)v \\end{pmatrix} = 0\n",
    "$$\n",
    "\n",
    "where the first equation is the continuity equation, the second is momentum conservation/the 'Euler' equation (flux of momentum density has an ordered component and pressure/random motion component), and the third is the energy conservation equation (energy flux similarly has a bulk transport component and pressure-driven component). In these equations, $\\rho$ is the density, $P$ is the pressure, $E$ is the energy, and $v$ is the average velocity. In order to close the system, we need to specify an equation of state, so here we choose the polytropic EOS for an ideal gas, with $\\gamma = 1.4$ (the ratio of specific heats is that of air). \n",
    "\n",
    "Using expressions derived from the characteristic form of the Euler equations (such as the Riemann invariants and the Rankine-Hugoniot shock jump conditions), we can relate the fluid quantities on either side of the shock, the expansion fan, and the contact discontinuity. With a lot of algebra, one can derive an implicit expression for the ratio of the *known* $p_1$ and $p_5$ pressures on either side of the diaphragm initially in terms of the ratio of *unknown* pressures $p_3$ and $p_4$ on either side of the contact. This can be solved iteratively, but this is often expensive, so we can use codes, such as this one, to approximate the solution more efficiently."
   ]
  },
  {
   "cell_type": "markdown",
   "metadata": {},
   "source": [
    "### Using the code\n",
    "In any case, this is the perfect example of a situation where the code can be used to solve this Riemann problem. First, we can `import phd`."
   ]
  },
  {
   "cell_type": "code",
   "execution_count": 1,
   "metadata": {},
   "outputs": [],
   "source": [
    "import phd\n",
    "import numpy as np"
   ]
  },
  {
   "cell_type": "markdown",
   "metadata": {},
   "source": [
    "Now we need to set-up our particle grid. Here, we will be producing a two-dimensional grid of particles with the `HydroParticleCreator` method but for convenience, can package it all into a single method as below. This is useful if we were to, for example, initialize the code in parallel, rather than serial, as we can feed the `create_particles` method in as an argument to the `distribute_initial_particles` method. However, for our purposes, the serial implementation is sufficient, so `distribute_initial_particles` simply reduces to the method we have defined below. If we wanted to run the code in parallel, however, it would suffice to bundle all these code blocks into a single python program and use the command \n",
    "```\n",
    "mpirun -n 4 python your_program_name.py\n",
    "``` \n",
    "for example and this implementation should work just fine.\n",
    "\n",
    "For specific values, we have chosen to take $\\rho_L = 1$, $\\rho_R = 0.125$, $P_L = 1$, $P_R = 0.1$, and the initial velocity is 0 in both the $x$ and $y$ directions."
   ]
  },
  {
   "cell_type": "code",
   "execution_count": 2,
   "metadata": {},
   "outputs": [],
   "source": [
    "def create_particles(dim=2, nx=100, Lx=1.0, diaphragm=0.5, gamma=1.4, units = \"cgs\"):\n",
    "\n",
    "    dx = Lx/nx # spacing between particles\n",
    "    n = nx*nx  # number of particles\n",
    "\n",
    "    # create particle container\n",
    "    particles, units = phd.HydroParticleCreator(n, dim=2, unit_sys = units)\n",
    "    part = 0\n",
    "    for i in range(nx):\n",
    "        for j in range(nx):\n",
    "            particles[\"position-x\"][part] = (i+0.5)*dx\n",
    "            particles[\"position-y\"][part] = (j+0.5)*dx \n",
    "            particles[\"ids\"][part] = part\n",
    "            part += 1\n",
    "\n",
    "    # set ambient values\n",
    "    particles[\"density\"][:]  = 1.0                 # rho_L\n",
    "    particles[\"pressure\"][:] = 1.0                 # P_L\n",
    "    particles[\"velocity-x\"][:] = 0.0\n",
    "    particles[\"velocity-y\"][:] = 0.0\n",
    "\n",
    "    cells = particles[\"position-x\"] > diaphragm    # subset of particles to the right of the 'diaphragm'\n",
    "    particles[\"density\"][cells] = 0.125            # rho_R\n",
    "    particles[\"pressure\"][cells] = 0.1             # P_R\n",
    "\n",
    "    return particles, units\n",
    "\n",
    "dim = 2; gamma = 1.4            # specify dimension and specific heat ratio\n",
    "# useful for parallelizing the implementation, in serial, this does nothing\n",
    "particles, units = phd.distribute_initial_particles(create_particles, dim=dim, gamma=gamma, units = \"cgs\") "
   ]
  },
  {
   "cell_type": "markdown",
   "metadata": {},
   "source": [
    "Though the ``HydroParticleCreator`` method was implicitly used within ``create_particles`` above and the ``Units`` object generated there, it might be instructive to redefine the ``Units`` object ourselves. This will serve as a useful demonstration of how one can construct a ``Units`` object directly. First we import the ``Units`` class and then we can initialize the object, specifying that we are working in cgs. If we do not specify an output system, the code will automatically assume the same unit system for producing output."
   ]
  },
  {
   "cell_type": "code",
   "execution_count": 3,
   "metadata": {},
   "outputs": [
    {
     "data": {
      "text/plain": [
       "cgs Unit System\n",
       " Base Units:\n",
       "  length: cm\n",
       "  mass: g\n",
       "  time: s\n",
       "  temperature: K\n",
       "  angle: rad\n",
       "  luminous_intensity: cd\n",
       "  logarithmic: Np\n",
       " Other Units:\n",
       "  energy: erg\n",
       "  specific_energy: erg/g\n",
       "  pressure: dyn/cm**2\n",
       "  force: dyn\n",
       "  magnetic_field_cgs: G\n",
       "  charge_cgs: statC\n",
       "  current_cgs: statA\n",
       "  power: erg/s"
      ]
     },
     "execution_count": 3,
     "metadata": {},
     "output_type": "execute_result"
    }
   ],
   "source": [
    "from phd.utils.units import Units\n",
    "units = Units(unit_system = \"cgs\")\n",
    "\n",
    "units.get_bases() # print the base dimensions used to define this unit system"
   ]
  },
  {
   "cell_type": "markdown",
   "metadata": {},
   "source": [
    "Next, we can specify the domain, construct the mesh, initialize the integrator object, set the stopping conditions, and specify the outputs we want to receive."
   ]
  },
  {
   "cell_type": "code",
   "execution_count": 4,
   "metadata": {},
   "outputs": [],
   "source": [
    "# computation related to boundaries\n",
    "domain_manager = phd.DomainManager(\n",
    "        xmin=[0., 0.], xmax=[1., 1.],\n",
    "        initial_radius=0.1)\n",
    "\n",
    "# create voronoi mesh\n",
    "mesh = phd.Mesh(regularize=False)\n",
    "\n",
    "# computation\n",
    "integrator = phd.MovingMeshMUSCLHancock()\n",
    "integrator.set_mesh(mesh)\n",
    "integrator.set_riemann(phd.HLLC())\n",
    "integrator.set_particles(particles)\n",
    "integrator.set_domain_manager(domain_manager)\n",
    "integrator.set_boundary_condition(phd.Reflective())\n",
    "integrator.set_reconstruction(phd.PieceWiseLinear())\n",
    "integrator.set_equation_state(phd.IdealGas(gamma=gamma))\n",
    "integrator.set_units(units)\n",
    "\n",
    "sim_name = \"sod\"\n",
    "# if the code has been initialized in parallel\n",
    "if phd._in_parallel:\n",
    "    integrator.set_load_balance(phd.LoadBalance())\n",
    "    sim_name = \"mpi_sod\"\n",
    "\n",
    "# add finish criteria\n",
    "simulation_time_manager = phd.SimulationTimeManager()\n",
    "simulation_time_manager.add_finish(phd.Time(time_max=0.15))\n",
    "\n",
    "# output last step\n",
    "output = phd.FinalOutput()\n",
    "output.set_writer(phd.Hdf5())\n",
    "simulation_time_manager.add_output(output)"
   ]
  },
  {
   "cell_type": "markdown",
   "metadata": {},
   "source": [
    "Finally, we can create the simulation and let it run."
   ]
  },
  {
   "cell_type": "code",
   "execution_count": 5,
   "metadata": {
    "scrolled": false
   },
   "outputs": [
    {
     "name": "stderr",
     "output_type": "stream",
     "text": [
      "phd: [\u001b[33mWARNING\u001b[0m  ] 2021-07-28 10:40:32,583: Directory sod_output already exists, files maybe over written!\n",
      "phd: [\u001b[33mWARNING\u001b[0m  ] 2021-07-28 10:40:32,587: Directory sod_output/final_output already exists, files maybe over written!\n",
      "phd: [\u001b[32mSTARTUP\u001b[0m  ] 2021-07-28 10:40:32,589: \n",
      "\n",
      " __________.__         .___\n",
      "\\______   \\  |__    __| _/\n",
      " |     ___/  |  \\  / __ |\n",
      " |    |   |   Y  \\/ /_/ |\n",
      " |____|   |___|  /\\____ |\n",
      "               \\/      \\/\n",
      "Welcome to Python Hydro-Dynamics!\n",
      "\n",
      "Simulation Information\n",
      "------------------------------\n",
      "Running in serial\n",
      "Log file saved at: sod.log\n",
      "Problem solving: sod\n",
      "Output data will be saved at: sod_output\n",
      "\n",
      "Classes used in the simulation\n",
      "------------------------------\n",
      "boundary_condition: Reflective\n",
      "domain_manager: DomainManager\n",
      "equation_state: IdealGas\n",
      "integrator: MovingMeshMUSCLHancock\n",
      "mesh: Mesh\n",
      "particles: CarrayContainer\n",
      "reconstruction: PieceWiseLinear\n",
      "riemann: HLLC\n",
      "units: Units\n",
      "\n",
      "phd: [\u001b[33mWARNING\u001b[0m  ] 2021-07-28 10:40:45,762: Directory sod_output/final_output/final_output0000 already exists, files maybe over written!\n",
      "phd: [\u001b[32mSUCCESS\u001b[0m  ] 2021-07-28 10:40:45,776: Simulation successfully finished!\n"
     ]
    }
   ],
   "source": [
    "# Create simulator\n",
    "simulation = phd.Simulation(simulation_name=sim_name, log_level = \"startup\")\n",
    "simulation.set_integrator(integrator)\n",
    "simulation.set_simulation_time_manager(simulation_time_manager)\n",
    "simulation.initialize()\n",
    "simulation.solve()"
   ]
  },
  {
   "cell_type": "markdown",
   "metadata": {},
   "source": [
    "Now we can read in the output file, which has been placed into the 'sod_output/final_output' folder and plot the pressure, density, and velocity profiles."
   ]
  },
  {
   "cell_type": "code",
   "execution_count": 6,
   "metadata": {},
   "outputs": [
    {
     "name": "stderr",
     "output_type": "stream",
     "text": [
      "phd: [\u001b[32mINFO\u001b[0m     ] 2021-07-21 12:17:42,386: hdf5 format: Reading filename sod_output/final_output/final_output0000/final_output0000.hdf5\n"
     ]
    },
    {
     "data": {
      "image/png": "[encoded data removed]",
      "text/plain": [
       "<Figure size 432x864 with 3 Axes>"
      ]
     },
     "metadata": {
      "needs_background": "light"
     },
     "output_type": "display_data"
    }
   ],
   "source": [
    "# For plotting...\n",
    "import matplotlib as mpl\n",
    "import matplotlib.pyplot as plt\n",
    "from matplotlib.collections import PatchCollection\n",
    "%matplotlib inline\n",
    "\n",
    "mpl.rcParams[\"mathtext.fontset\"] = \"stix\"\n",
    "mpl.rcParams[\"font.family\"] = \"STIXGeneral\"\n",
    "mpl.rcParams[\"xtick.labelsize\"] = 16\n",
    "mpl.rcParams[\"ytick.labelsize\"] = 16\n",
    "\n",
    "# Reading in the output\n",
    "file_name=\"sod_output/final_output/final_output0000/final_output0000.hdf5\"\n",
    "reader = phd.Hdf5()\n",
    "sod, units = reader.read(file_name)\n",
    "\n",
    "fig, axes = plt.subplots(3, 1, sharex=\"col\", figsize=(6,12))\n",
    "fig.subplots_adjust(hspace=0, left=0.13, top=0.96, bottom=0.06)\n",
    "\n",
    "ax = axes[0]\n",
    "ax.plot(sod[\"position-x\"], sod[\"density\"], \".\", color=\"steelblue\")\n",
    "ax.set_xlim(0,1)\n",
    "ax.set_ylim(0,1.2)\n",
    "ax.set_yticks([0.0, 0.5, 1.0])\n",
    "ax.set_yticklabels([0.0, 0.5, 1.0])\n",
    "ax.set_ylabel(r\"$\\rho$\", fontsize=18)\n",
    "ax.tick_params(direction=\"in\", right=True, top=True)\n",
    "ax.set_title(\"2D\", fontsize=18)\n",
    "\n",
    "ax = axes[1]\n",
    "ax.plot(sod[\"position-x\"], sod[\"velocity-x\"], \".\", color=\"steelblue\")\n",
    "ax.set_xlim(0,1)\n",
    "ax.set_ylim(-0.2,1.2)\n",
    "ax.set_yticks([0.0, 0.5, 1.0])\n",
    "ax.set_yticklabels([0.0, 0.5, 1.0])\n",
    "ax.set_ylabel(r\"$v_x$\", fontsize=18)\n",
    "ax.tick_params(direction=\"in\", right=True, top=True)\n",
    "\n",
    "ax = axes[2]\n",
    "ax.plot(sod[\"position-x\"], sod[\"pressure\"], \".\", color=\"steelblue\")\n",
    "ax.set_xlim(0,1)\n",
    "ax.set_ylim(-0.1,1.2)\n",
    "ax.set_yticks([0.0, 0.5, 1.0])\n",
    "ax.set_yticklabels([0.0, 0.5, 1.0])\n",
    "ax.set_xlabel(r\"$x$\", fontsize=18)\n",
    "ax.set_ylabel(r\"$P$\", fontsize=18)\n",
    "ax.tick_params(direction=\"in\", right=True, top=True)\n",
    "\n",
    "plt.show()"
   ]
  }
 ],
 "metadata": {
  "kernelspec": {
   "display_name": "Python 3",
   "language": "python",
   "name": "python3"
  },
  "language_info": {
   "codemirror_mode": {
    "name": "ipython",
    "version": 3
   },
   "file_extension": ".py",
   "mimetype": "text/x-python",
   "name": "python",
   "nbconvert_exporter": "python",
   "pygments_lexer": "ipython3",
   "version": "3.8.5"
  }
 },
 "nbformat": 4,
 "nbformat_minor": 4
}
